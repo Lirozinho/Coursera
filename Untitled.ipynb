{
 "cells": [
  {
   "cell_type": "markdown",
   "id": "cbdb9e63-0a87-4a39-9156-3d4b0136fcb3",
   "metadata": {},
   "source": [
    "# My Jupyter Notebook on IBM Watson Studio"
   ]
  },
  {
   "cell_type": "markdown",
   "id": "11592a8c-1131-4494-90fe-5a09d143f017",
   "metadata": {},
   "source": [
    "#### Matheus Moraes\n",
    "Current Ocupation: Student - Desired Ocupation: Data Scientist"
   ]
  },
  {
   "cell_type": "markdown",
   "id": "df5c068d-0538-47b5-9e98-b22d686e4959",
   "metadata": {},
   "source": [
    "*I am interested in data science because its a very rewarding area*, *I am a Brazilian Native too, in my country theres a high demand for data scientsts too*\n"
   ]
  },
  {
   "cell_type": "markdown",
   "id": "72f4c49e-c136-491a-9903-17a1711fff75",
   "metadata": {},
   "source": [
    "### In the following cell, the code is supose to deliver the division between 10 and 5:"
   ]
  },
  {
   "cell_type": "code",
   "execution_count": 7,
   "id": "1e1dc883-b172-4592-9408-9cd27e1e26a9",
   "metadata": {},
   "outputs": [
    {
     "name": "stdout",
     "output_type": "stream",
     "text": [
      "2.0\n"
     ]
    }
   ],
   "source": [
    "X = 10/5\n",
    "print(X)"
   ]
  },
  {
   "cell_type": "markdown",
   "id": "9c2a983e-3add-4181-bdbf-2c7830aeee75",
   "metadata": {},
   "source": [
    "### Bulleted List:\n",
    "- Halow\n",
    "- Bro\n",
    "    \n",
    "## Numbered List:\n",
    "1. Numero uno\n",
    "2. Numero dos"
   ]
  },
  {
   "cell_type": "code",
   "execution_count": null,
   "id": "4083f0a3-dbeb-4619-bbee-ae16bb9de6d9",
   "metadata": {},
   "outputs": [],
   "source": []
  }
 ],
 "metadata": {
  "kernelspec": {
   "display_name": "Python",
   "language": "python",
   "name": "conda-env-python-py"
  },
  "language_info": {
   "codemirror_mode": {
    "name": "ipython",
    "version": 3
   },
   "file_extension": ".py",
   "mimetype": "text/x-python",
   "name": "python",
   "nbconvert_exporter": "python",
   "pygments_lexer": "ipython3",
   "version": "3.7.12"
  }
 },
 "nbformat": 4,
 "nbformat_minor": 5
}
